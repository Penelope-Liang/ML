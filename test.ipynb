{
 "cells": [
  {
   "cell_type": "code",
   "execution_count": 1,
   "id": "99257146",
   "metadata": {},
   "outputs": [],
   "source": [
    "import numpy as np \n",
    "from matplotlib import pyplot as plt \n",
    "from scipy.special import factorial\n",
    "import math\n",
    "from tqdm import tqdm"
   ]
  },
  {
   "cell_type": "code",
   "execution_count": 2,
   "id": "8229b42e",
   "metadata": {},
   "outputs": [],
   "source": [
    "def hermite(x, k):\n",
    "    if k == 0:\n",
    "        return 1\n",
    "    elif k == 1:\n",
    "        return 2 * x\n",
    "    else:\n",
    "        return 2 * x * hermite(x, k - 1) - 2 * (k - 1) * hermite(x, k - 2)"
   ]
  },
  {
   "cell_type": "code",
   "execution_count": 3,
   "id": "df928142",
   "metadata": {},
   "outputs": [],
   "source": [
    "def calculate(beta, x):\n",
    "    \n",
    "    l = np.arange(len(x), 0, -1) * 1.0\n",
    "\n",
    "    #f_x = np.zeros_like(x)\n",
    "    Hk_x = np.zeros_like(x)\n",
    "\n",
    "    # compute ck\n",
    "    ck = np.zeros_like(l)\n",
    "    for k in range(len(l)):\n",
    "        ck[k] = (np.sqrt(np.pi) * (2 ** k) * factorial(k))**(-0.5)\n",
    "\n",
    "    fx = 0\n",
    "    for k in tqdm(range(len(x))):\n",
    "        temp = l[k] * ck[k] * np.exp(-x*x/2) * hermite(x, k) + 0.001*x*x\n",
    "    #     print(temp)\n",
    "        fx = fx + temp\n",
    "    V = fx\n",
    "\n",
    "    # Square Matrix B\n",
    "    B = []\n",
    "    for ki in tqdm(range(len(x))):\n",
    "        # Calculate b_k\n",
    "        temp = ck[ki] * np.exp(-x * x/2) * hermite(x, ki)\n",
    "        B.append(temp)\n",
    "\n",
    "    B_inv = np.linalg.inv(B)\n",
    "    C = np.dot(B, V)\n",
    "    inter = np.dot(B_inv, C)\n",
    "\n",
    "    # Non-Square Matrix B\n",
    "    B_new = []\n",
    "    for ki in tqdm(range(6)):\n",
    "        # Calculate b_k\n",
    "        temp = ck[ki] * np.exp(-x * x/2) * hermite(x, ki)\n",
    "        B_new.append(temp)\n",
    "\n",
    "    B_new = np.array(B_new)\n",
    "\n",
    "    C_new = np.dot(V, np.dot(np.linalg.pinv(np.dot(B_new.T, B_new)), B_new.T))\n",
    "\n",
    "    pseudo_inverse = np.dot(C_new, B_new)\n",
    "    \n",
    "    condition_num1 = np.linalg.cond(B)\n",
    "    condition_num2 = np.linalg.cond(B_new)\n",
    "    \n",
    "    return fx, inter, pseudo_inverse, condition_num1, condition_num2"
   ]
  },
  {
   "cell_type": "code",
   "execution_count": 4,
   "id": "abb53858",
   "metadata": {},
   "outputs": [],
   "source": [
    "# # x1 = np.arange(0, 0.5, 0.03)\n",
    "# x1 = np.linspace(0, 33, num=14)\n",
    "\n",
    "# fx1, inter_0_2, pseudo_inverse_0_2, condition_num1, condition_num2 = calculate(0.000000000001, x1)\n",
    "# print(\"square matrix condition number1:\", condition_num1)\n",
    "# print(\"non-square matrix condition number2:\", condition_num2)\n",
    "# print(condition_num2 - condition_num1)\n",
    "\n",
    "# plt.plot(x1, fx1, label = \"fx\", linestyle='-.', marker = '*', markersize=17, linewidth=3)\n",
    "# plt.plot(x1, inter_0_2, marker = 's', linewidth=2, markersize=6, label = \"B is square_matrix\",)\n",
    "# plt.plot(x1, pseudo_inverse_0_2, label = \"B is not square_matrix\", linestyle=':', marker = \"o\", markersize = 6, linewidth=3)\n",
    "\n",
    "# plt.xlabel(\"x\")\n",
    "# #plt.ylim(0, 3.5)\n",
    "# plt.ylabel(\"value\")\n",
    "# #plt.ylim(0, 10)\n",
    "# plt.legend()\n",
    "# plt.grid()\n",
    "# #plt.title(\"x from 0 to 0.5, beta = 0.0000000000001\")\n",
    "# plt.show"
   ]
  },
  {
   "cell_type": "code",
   "execution_count": 5,
   "id": "7d646325",
   "metadata": {},
   "outputs": [
    {
     "name": "stderr",
     "output_type": "stream",
     "text": [
      "100%|█████████████████████████████████████████| 14/14 [00:00<00:00, 2148.56it/s]\n",
      "100%|█████████████████████████████████████████| 14/14 [00:00<00:00, 1639.50it/s]\n",
      "100%|██████████████████████████████████████████| 6/6 [00:00<00:00, 10086.50it/s]"
     ]
    },
    {
     "name": "stdout",
     "output_type": "stream",
     "text": [
      "square matrix condition number1: 1.5962756970940776e+19\n",
      "non-square matrix condition number2: 44722697100606.19\n"
     ]
    },
    {
     "name": "stderr",
     "output_type": "stream",
     "text": [
      "\n"
     ]
    },
    {
     "data": {
      "text/plain": [
       "<function matplotlib.pyplot.show(close=None, block=None)>"
      ]
     },
     "execution_count": 5,
     "metadata": {},
     "output_type": "execute_result"
    },
    {
     "data": {
      "image/png": "[encoded data removed]",
      "text/plain": [
       "<Figure size 432x288 with 1 Axes>"
      ]
     },
     "metadata": {
      "needs_background": "light"
     },
     "output_type": "display_data"
    }
   ],
   "source": [
    "x2 = np.linspace(-4, -3.9, num=14)\n",
    "fx2, inter_1_2, pseudo_inverse_1_2, condition_num1, condition_num2 = calculate(0.000000001, x2)\n",
    "print(\"square matrix condition number1:\", condition_num1)\n",
    "print(\"non-square matrix condition number2:\", condition_num2)\n",
    "\n",
    "plt.plot(x2, fx2, label = \"fx\", linestyle='-.', marker = '*', markersize=17, linewidth=3)\n",
    "plt.plot(x2, inter_1_2, marker = 's', linewidth=2, markersize=6, label = \"B is square_matrix\",)\n",
    "plt.plot(x2, pseudo_inverse_1_2, label = \"B is not square_matrix\", linestyle=':', marker = \"o\", markersize = 6, linewidth=3)\n",
    "\n",
    "plt.xlabel(\"x\")\n",
    "#plt.ylim(, 6)\n",
    "plt.ylabel(\"value\")\n",
    "# plt.ylim(3, 6)\n",
    "plt.legend()\n",
    "plt.grid()\n",
    "#plt.title(\"x from 0 to 0.5, beta = 0.001\")\n",
    "plt.show"
   ]
  },
  {
   "cell_type": "code",
   "execution_count": 6,
   "id": "e1b5ff68",
   "metadata": {},
   "outputs": [],
   "source": [
    "# # square 6*6\n",
    "# # x3 = np.linspace(-4, -1.05, num=8)\n",
    "# x3 = np.linspace(-4, -3.9, num=8)\n",
    "# fx3, inter_7_8, pseudo_inverse_7_8, condition_num1, condition_num2 = calculate(0.001, x3)\n",
    "# print(\"square matrix condition number1:\", condition_num1)\n",
    "# print(\"non-square matrix condition number2:\", condition_num2)\n",
    "\n",
    "# plt.plot(x3, fx3, label = \"fx\", linestyle='-.', marker = '*', markersize=17, linewidth=3)\n",
    "# plt.plot(x3, inter_7_8, marker = 's', linewidth=2, markersize=6, label = \"B is square_matrix\",)\n",
    "# plt.plot(x3, pseudo_inverse_7_8, label = \"B is not square_matrix\", linestyle=':', marker = \"o\", markersize = 6, linewidth=3)\n",
    "\n",
    "# plt.xlabel(\"x\")\n",
    "# #plt.ylim(0, 3.5)\n",
    "# plt.ylabel(\"value\")\n",
    "# # plt.ylim(0, 1)\n",
    "# plt.legend()\n",
    "# plt.grid()\n",
    "# #plt.title(\"x from 0 to 0.5, beta = 1e1\")\n",
    "# plt.show"
   ]
  },
  {
   "cell_type": "code",
   "execution_count": 7,
   "id": "c3629a2d",
   "metadata": {},
   "outputs": [],
   "source": [
    "# 6*6, 6*7, 6*8"
   ]
  },
  {
   "cell_type": "code",
   "execution_count": 8,
   "id": "1b1cb02f",
   "metadata": {},
   "outputs": [],
   "source": [
    "#indepented value x\n",
    "#depended value y"
   ]
  }
 ],
 "metadata": {
  "kernelspec": {
   "display_name": "Python 3 (ipykernel)",
   "language": "python",
   "name": "python3"
  },
  "language_info": {
   "codemirror_mode": {
    "name": "ipython",
    "version": 3
   },
   "file_extension": ".py",
   "mimetype": "text/x-python",
   "name": "python",
   "nbconvert_exporter": "python",
   "pygments_lexer": "ipython3",
   "version": "3.9.12"
  },
  "varInspector": {
   "cols": {
    "lenName": 16,
    "lenType": 16,
    "lenVar": 40
   },
   "kernels_config": {
    "python": {
     "delete_cmd_postfix": "",
     "delete_cmd_prefix": "del ",
     "library": "var_list.py",
     "varRefreshCmd": "print(var_dic_list())"
    },
    "r": {
     "delete_cmd_postfix": ") ",
     "delete_cmd_prefix": "rm(",
     "library": "var_list.r",
     "varRefreshCmd": "cat(var_dic_list()) "
    }
   },
   "types_to_exclude": [
    "module",
    "function",
    "builtin_function_or_method",
    "instance",
    "_Feature"
   ],
   "window_display": false
  }
 },
 "nbformat": 4,
 "nbformat_minor": 5
}
