{
 "cells": [
  {
   "cell_type": "code",
   "execution_count": 1,
   "id": "99257146",
   "metadata": {},
   "outputs": [],
   "source": [
    "import numpy as np \n",
    "from matplotlib import pyplot as plt \n",
    "from scipy.special import factorial\n",
    "import math\n",
    "from tqdm import tqdm"
   ]
  },
  {
   "cell_type": "code",
   "execution_count": 2,
   "id": "254ecbb6",
   "metadata": {},
   "outputs": [],
   "source": [
    "def hermite(x, k):\n",
    "    if k == 0:\n",
    "        return 1\n",
    "    elif k == 1:\n",
    "        return 2 * x\n",
    "    else:\n",
    "        return 2 * x * hermite(x, k - 1) - 2 * (k - 1) * hermite(x, k - 2)"
   ]
  },
  {
   "cell_type": "code",
   "execution_count": 3,
   "id": "667d9093",
   "metadata": {},
   "outputs": [],
   "source": [
    "# degrees = 360\n",
    "# radians = degrees * np.pi / 180"
   ]
  },
  {
   "cell_type": "code",
   "execution_count": 4,
   "id": "028142c7",
   "metadata": {},
   "outputs": [],
   "source": [
    "#radians"
   ]
  },
  {
   "cell_type": "code",
   "execution_count": 5,
   "id": "ce2d420d",
   "metadata": {},
   "outputs": [],
   "source": [
    "#x = np.arange(0, 360, 29)\n",
    "# x = np.linspace(0, np.pi, 22)\n",
    "x = np.linspace(2/4*np.pi, 6/4*np.pi, 15)\n",
    "sin_x = np.sin(x)\n",
    "\n",
    "# beta = 0.001\n",
    "\n",
    "l = np.arange(len(x), 0, -1) * 1.0\n",
    "\n",
    "# f_x = np.zeros_like(x)\n",
    "\n",
    "Hk_x = np.zeros_like(x)"
   ]
  },
  {
   "cell_type": "code",
   "execution_count": 6,
   "id": "97dcad8f",
   "metadata": {},
   "outputs": [],
   "source": [
    "#x = np.linspace(0, np.pi, 22)"
   ]
  },
  {
   "cell_type": "code",
   "execution_count": 7,
   "id": "4f81fbf7",
   "metadata": {},
   "outputs": [],
   "source": [
    "#x1 = np.linspace(0, 2*np.pi, 44)"
   ]
  },
  {
   "cell_type": "code",
   "execution_count": 8,
   "id": "7fe566fb",
   "metadata": {},
   "outputs": [],
   "source": [
    "#x1"
   ]
  },
  {
   "cell_type": "code",
   "execution_count": 9,
   "id": "bfaf1abd",
   "metadata": {},
   "outputs": [
    {
     "data": {
      "text/plain": [
       "array([1.57079633, 1.7951958 , 2.01959528, 2.24399475, 2.46839423,\n",
       "       2.6927937 , 2.91719318, 3.14159265, 3.36599213, 3.5903916 ,\n",
       "       3.81479108, 4.03919055, 4.26359003, 4.48798951, 4.71238898])"
      ]
     },
     "execution_count": 9,
     "metadata": {},
     "output_type": "execute_result"
    }
   ],
   "source": [
    "x"
   ]
  },
  {
   "cell_type": "code",
   "execution_count": 10,
   "id": "710629f6",
   "metadata": {},
   "outputs": [
    {
     "data": {
      "text/plain": [
       "array([ 1.00000000e+00,  9.74927912e-01,  9.00968868e-01,  7.81831482e-01,\n",
       "        6.23489802e-01,  4.33883739e-01,  2.22520934e-01,  1.22464680e-16,\n",
       "       -2.22520934e-01, -4.33883739e-01, -6.23489802e-01, -7.81831482e-01,\n",
       "       -9.00968868e-01, -9.74927912e-01, -1.00000000e+00])"
      ]
     },
     "execution_count": 10,
     "metadata": {},
     "output_type": "execute_result"
    }
   ],
   "source": [
    "sin_x"
   ]
  },
  {
   "cell_type": "code",
   "execution_count": 11,
   "id": "ae3a65c5",
   "metadata": {},
   "outputs": [],
   "source": [
    "# compute ck\n",
    "\n",
    "ck = np.zeros_like(l)\n",
    "for k in range(len(l)):\n",
    "    ck[k] = (np.sqrt(np.pi) * (2 ** k) * factorial(k)) ** (-0.5)\n",
    "fx = []\n",
    "\n",
    "'''\n",
    "for k in tqdm(range(len(x))):\n",
    "    temp = l[k] * ck[k] * np.exp(-sin_x[k] * sin_x[k] / 2) * hermite(sin_x[k], k) + 0.001 * sin_x[k] * sin_x[k]\n",
    "    fx.append(temp)\n",
    "    \n",
    "f_x = np.sum(fx)\n",
    "    \n",
    "'''\n",
    "\n",
    "V = sin_x"
   ]
  },
  {
   "cell_type": "code",
   "execution_count": 12,
   "id": "3513f796",
   "metadata": {
    "scrolled": true
   },
   "outputs": [
    {
     "data": {
      "text/plain": [
       "array([ 1.00000000e+00,  9.74927912e-01,  9.00968868e-01,  7.81831482e-01,\n",
       "        6.23489802e-01,  4.33883739e-01,  2.22520934e-01,  1.22464680e-16,\n",
       "       -2.22520934e-01, -4.33883739e-01, -6.23489802e-01, -7.81831482e-01,\n",
       "       -9.00968868e-01, -9.74927912e-01, -1.00000000e+00])"
      ]
     },
     "execution_count": 12,
     "metadata": {},
     "output_type": "execute_result"
    }
   ],
   "source": [
    "V"
   ]
  },
  {
   "cell_type": "code",
   "execution_count": 13,
   "id": "dc5756be",
   "metadata": {},
   "outputs": [
    {
     "name": "stderr",
     "output_type": "stream",
     "text": [
      "100%|█████████████████████████████████████████| 15/15 [00:00<00:00, 1173.80it/s]\n"
     ]
    }
   ],
   "source": [
    "# B_k\n",
    "\n",
    "B = []\n",
    "for ki in tqdm(range(len(x))):\n",
    "    # temp = ck[ki] * np.exp(-np.sin(x) * np.sin(x)/2) * hermite(np.sin(x), ki)\n",
    "    temp = ck[ki] * np.exp(-x * x/2) * hermite(x, ki)\n",
    "    B.append(temp)"
   ]
  },
  {
   "cell_type": "code",
   "execution_count": 14,
   "id": "54dbf1f5",
   "metadata": {},
   "outputs": [
    {
     "data": {
      "text/plain": [
       "(15, 15)"
      ]
     },
     "execution_count": 14,
     "metadata": {},
     "output_type": "execute_result"
    }
   ],
   "source": [
    "np.array(B).shape"
   ]
  },
  {
   "cell_type": "code",
   "execution_count": 15,
   "id": "8316fa63",
   "metadata": {
    "scrolled": true
   },
   "outputs": [],
   "source": [
    "B_inv = np.linalg.inv(B)\n",
    "C = np.dot(B_inv, V)\n",
    "inter = np.dot(B, C)"
   ]
  },
  {
   "cell_type": "code",
   "execution_count": 16,
   "id": "c609d722",
   "metadata": {},
   "outputs": [
    {
     "data": {
      "text/plain": [
       "array([ 1.00023842e+00,  9.75168228e-01,  9.00875092e-01,  7.81433105e-01,\n",
       "        6.23428345e-01,  4.34295654e-01,  2.22961426e-01, -4.88281250e-04,\n",
       "       -2.23937988e-01, -4.34539795e-01, -6.22680664e-01, -7.80555725e-01,\n",
       "       -9.00466919e-01, -9.74822998e-01, -9.99877930e-01])"
      ]
     },
     "execution_count": 16,
     "metadata": {},
     "output_type": "execute_result"
    }
   ],
   "source": [
    "inter"
   ]
  },
  {
   "cell_type": "code",
   "execution_count": 17,
   "id": "302e29fb",
   "metadata": {},
   "outputs": [
    {
     "name": "stderr",
     "output_type": "stream",
     "text": [
      "100%|███████████████████████████████████████████| 6/6 [00:00<00:00, 7861.86it/s]\n"
     ]
    }
   ],
   "source": [
    "# Non-Square Matrix B\n",
    "\n",
    "B_new = []\n",
    "for ki in tqdm(range(6)):\n",
    "    # Calculate b_k \n",
    "    temp = ck[ki] * np.exp(x * x/2) * hermite(x, ki)\n",
    "    B_new.append(temp)\n",
    "\n",
    "B_new = np.array(B_new)\n",
    "\n",
    "C_new = np.dot(V, np.dot(np.linalg.pinv(np.dot(B_new.T, B_new)), B_new.T))\n",
    "\n",
    "pseudo_inverse = np.dot(C_new, B_new)"
   ]
  },
  {
   "cell_type": "code",
   "execution_count": 18,
   "id": "256f2b24",
   "metadata": {},
   "outputs": [
    {
     "data": {
      "text/plain": [
       "array([ 0.41087519,  0.45020369,  0.49462849,  0.53938384,  0.57432464,\n",
       "        0.58038109,  0.52558837,  0.36412027,  0.04830724, -0.42550446,\n",
       "       -0.91567032, -1.04393187, -0.56737805, -1.07426539, -0.99092955])"
      ]
     },
     "execution_count": 18,
     "metadata": {},
     "output_type": "execute_result"
    }
   ],
   "source": [
    "pseudo_inverse"
   ]
  },
  {
   "cell_type": "code",
   "execution_count": 19,
   "id": "8f2f0f63",
   "metadata": {},
   "outputs": [],
   "source": [
    "cond_square = np.linalg.cond(B)\n",
    "cond_nonsquare = np.linalg.cond(B_new)"
   ]
  },
  {
   "cell_type": "code",
   "execution_count": 20,
   "id": "66f67c5d",
   "metadata": {},
   "outputs": [
    {
     "data": {
      "text/plain": [
       "99135043532575.25"
      ]
     },
     "execution_count": 20,
     "metadata": {},
     "output_type": "execute_result"
    }
   ],
   "source": [
    "cond_square "
   ]
  },
  {
   "cell_type": "code",
   "execution_count": 21,
   "id": "0d4aaefb",
   "metadata": {},
   "outputs": [
    {
     "data": {
      "text/plain": [
       "348107726.45405865"
      ]
     },
     "execution_count": 21,
     "metadata": {},
     "output_type": "execute_result"
    }
   ],
   "source": [
    "cond_nonsquare"
   ]
  },
  {
   "cell_type": "code",
   "execution_count": 22,
   "id": "5189e990",
   "metadata": {},
   "outputs": [
    {
     "name": "stdout",
     "output_type": "stream",
     "text": [
      "square matrix condition number1: 99135043532575.25\n",
      "non-square matrix condition number2: 348107726.45405865\n"
     ]
    },
    {
     "data": {
      "text/plain": [
       "<function matplotlib.pyplot.show(close=None, block=None)>"
      ]
     },
     "execution_count": 22,
     "metadata": {},
     "output_type": "execute_result"
    },
    {
     "data": {
      "image/png": "[encoded data removed]",
      "text/plain": [
       "<Figure size 432x288 with 1 Axes>"
      ]
     },
     "metadata": {
      "needs_background": "light"
     },
     "output_type": "display_data"
    }
   ],
   "source": [
    "plt.plot(x, V, label = \"fx\", linestyle='-.', marker = '*', markersize=17, linewidth=3)\n",
    "plt.plot(x, inter, marker = 's', linewidth=2, markersize=6, label = \"B is square_matrix\",)\n",
    "plt.plot(x, pseudo_inverse, label = \"B is not square_matrix\", linestyle=':', marker = \"o\", markersize = 6, linewidth=3)\n",
    "\n",
    "print(\"square matrix condition number1:\", cond_square)\n",
    "print(\"non-square matrix condition number2:\", cond_nonsquare)\n",
    "\n",
    "plt.xlabel(\"x\")\n",
    "# plt.xlim(0, 180)\n",
    "plt.ylabel(\"value\")\n",
    "#plt.ylim(-1, 1.2)\n",
    "plt.legend()\n",
    "plt.grid()\n",
    "plt.title(\"x is degree from 0 to np.pi\")\n",
    "plt.show"
   ]
  },
  {
   "cell_type": "code",
   "execution_count": 23,
   "id": "92fb788d",
   "metadata": {},
   "outputs": [],
   "source": [
    "# plot function -4 and -3.5 \n",
    "# plot function -4 to -1"
   ]
  },
  {
   "cell_type": "code",
   "execution_count": null,
   "id": "a979cd11",
   "metadata": {},
   "outputs": [],
   "source": []
  },
  {
   "cell_type": "code",
   "execution_count": null,
   "id": "6b5f8e23",
   "metadata": {},
   "outputs": [],
   "source": []
  }
 ],
 "metadata": {
  "kernelspec": {
   "display_name": "Python 3 (ipykernel)",
   "language": "python",
   "name": "python3"
  },
  "language_info": {
   "codemirror_mode": {
    "name": "ipython",
    "version": 3
   },
   "file_extension": ".py",
   "mimetype": "text/x-python",
   "name": "python",
   "nbconvert_exporter": "python",
   "pygments_lexer": "ipython3",
   "version": "3.9.12"
  },
  "varInspector": {
   "cols": {
    "lenName": 16,
    "lenType": 16,
    "lenVar": 40
   },
   "kernels_config": {
    "python": {
     "delete_cmd_postfix": "",
     "delete_cmd_prefix": "del ",
     "library": "var_list.py",
     "varRefreshCmd": "print(var_dic_list())"
    },
    "r": {
     "delete_cmd_postfix": ") ",
     "delete_cmd_prefix": "rm(",
     "library": "var_list.r",
     "varRefreshCmd": "cat(var_dic_list()) "
    }
   },
   "types_to_exclude": [
    "module",
    "function",
    "builtin_function_or_method",
    "instance",
    "_Feature"
   ],
   "window_display": false
  }
 },
 "nbformat": 4,
 "nbformat_minor": 5
}
